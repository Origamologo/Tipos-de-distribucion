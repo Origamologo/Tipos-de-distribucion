{
 "cells": [
  {
   "cell_type": "code",
   "execution_count": 9,
   "id": "effbb484",
   "metadata": {},
   "outputs": [],
   "source": [
    "import numpy as np\n",
    "import matplotlib.pyplot as plt\n",
    "import seaborn as sns"
   ]
  },
  {
   "cell_type": "markdown",
   "id": "2e141552",
   "metadata": {},
   "source": [
    "# ¿Que es una distribución? "
   ]
  },
  {
   "cell_type": "markdown",
   "id": "f4585c94",
   "metadata": {},
   "source": [
    "Una distribución es una función que muestra los posibles valores de una variable y la probabilidad de que se produzcan."
   ]
  },
  {
   "cell_type": "markdown",
   "id": "77c0964d",
   "metadata": {},
   "source": [
    "## Tipos de distribuciones"
   ]
  },
  {
   "cell_type": "markdown",
   "id": "0530fbd8",
   "metadata": {},
   "source": [
    "**Exponencial**"
   ]
  },
  {
   "cell_type": "code",
   "execution_count": 4,
   "id": "ca4b36bf",
   "metadata": {},
   "outputs": [],
   "source": [
    "#Explicación"
   ]
  },
  {
   "cell_type": "code",
   "execution_count": null,
   "id": "f0621016",
   "metadata": {},
   "outputs": [],
   "source": [
    "#code (Muestra grafica)"
   ]
  },
  {
   "cell_type": "markdown",
   "id": "ed5310f2",
   "metadata": {},
   "source": [
    "**Poisson**"
   ]
  },
  {
   "cell_type": "code",
   "execution_count": null,
   "id": "1a43bc05",
   "metadata": {},
   "outputs": [],
   "source": [
    "#Explicación"
   ]
  },
  {
   "cell_type": "code",
   "execution_count": null,
   "id": "2cb8ffa3",
   "metadata": {},
   "outputs": [],
   "source": [
    "#code (Muestra grafica)"
   ]
  },
  {
   "cell_type": "markdown",
   "id": "bab5d567",
   "metadata": {},
   "source": [
    "**Normal**"
   ]
  },
  {
   "cell_type": "code",
   "execution_count": null,
   "id": "4fc53f3f",
   "metadata": {},
   "outputs": [],
   "source": [
    "#Explicación"
   ]
  },
  {
   "cell_type": "code",
   "execution_count": 14,
   "id": "e17f6536",
   "metadata": {},
   "outputs": [
    {
     "name": "stderr",
     "output_type": "stream",
     "text": [
      "C:\\Users\\mituc\\anaconda3\\envs\\py39\\lib\\site-packages\\seaborn\\distributions.py:2619: FutureWarning: `distplot` is a deprecated function and will be removed in a future version. Please adapt your code to use either `displot` (a figure-level function with similar flexibility) or `histplot` (an axes-level function for histograms).\n",
      "  warnings.warn(msg, FutureWarning)\n"
     ]
    },
    {
     "data": {
      "text/plain": [
       "<function matplotlib.pyplot.show(close=None, block=None)>"
      ]
     },
     "execution_count": 14,
     "metadata": {},
     "output_type": "execute_result"
    },
    {
     "data": {
      "image/png": "[encoded data removed]",
      "text/plain": [
       "<Figure size 432x288 with 1 Axes>"
      ]
     },
     "metadata": {
      "needs_background": "light"
     },
     "output_type": "display_data"
    }
   ],
   "source": [
    "sns.distplot(np.random.normal(0,1,10))\n",
    "plt.show"
   ]
  },
  {
   "cell_type": "markdown",
   "id": "752c3014",
   "metadata": {},
   "source": [
    "**Escala logaritmica**"
   ]
  },
  {
   "cell_type": "code",
   "execution_count": null,
   "id": "51c5c5c8",
   "metadata": {},
   "outputs": [],
   "source": [
    "#Una escala logaritmica es"
   ]
  },
  {
   "cell_type": "code",
   "execution_count": null,
   "id": "e9926958",
   "metadata": {},
   "outputs": [],
   "source": [
    "#code (Muestra grafica)"
   ]
  }
 ],
 "metadata": {
  "kernelspec": {
   "display_name": "Python 3 (ipykernel)",
   "language": "python",
   "name": "python3"
  },
  "language_info": {
   "codemirror_mode": {
    "name": "ipython",
    "version": 3
   },
   "file_extension": ".py",
   "mimetype": "text/x-python",
   "name": "python",
   "nbconvert_exporter": "python",
   "pygments_lexer": "ipython3",
   "version": "3.9.7"
  }
 },
 "nbformat": 4,
 "nbformat_minor": 5
}

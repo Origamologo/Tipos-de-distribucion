{
 "cells": [
  {
   "cell_type": "markdown",
   "id": "2e141552",
   "metadata": {},
   "source": [
    "# ¿Que es una distribución? "
   ]
  },
  {
   "cell_type": "markdown",
   "id": "f4585c94",
   "metadata": {},
   "source": [
    "Una distribución es una función que muestra los posibles valores de una variable y la probabilidad de que se produzcan."
   ]
  },
  {
   "cell_type": "markdown",
   "id": "77c0964d",
   "metadata": {},
   "source": [
    "## Tipos de distribuciones"
   ]
  },
  {
   "cell_type": "markdown",
   "id": "0530fbd8",
   "metadata": {},
   "source": [
    "**Exponencial**"
   ]
  },
  {
   "cell_type": "code",
   "execution_count": 4,
   "id": "ca4b36bf",
   "metadata": {},
   "outputs": [],
   "source": [
    "#Explicación"
   ]
  },
  {
   "cell_type": "code",
   "execution_count": null,
   "id": "f0621016",
   "metadata": {},
   "outputs": [],
   "source": [
    "#code (Muestra grafica)"
   ]
  },
  {
   "cell_type": "markdown",
   "id": "ed5310f2",
   "metadata": {},
   "source": [
    "**Poisson**"
   ]
  },
  {
   "cell_type": "code",
   "execution_count": null,
   "id": "1a43bc05",
   "metadata": {},
   "outputs": [],
   "source": [
    "#Explicación"
   ]
  },
  {
   "cell_type": "code",
   "execution_count": null,
   "id": "2cb8ffa3",
   "metadata": {},
   "outputs": [],
   "source": [
    "#code (Muestra grafica)"
   ]
  },
  {
   "cell_type": "markdown",
   "id": "bab5d567",
   "metadata": {},
   "source": [
    "**Normal**"
   ]
  },
  {
   "cell_type": "code",
   "execution_count": null,
   "id": "4fc53f3f",
   "metadata": {},
   "outputs": [],
   "source": [
    "#Explicación"
   ]
  },
  {
   "cell_type": "code",
   "execution_count": null,
   "id": "e17f6536",
   "metadata": {},
   "outputs": [],
   "source": [
    "#code (Muestra grafica)"
   ]
  },
  {
   "cell_type": "markdown",
   "id": "752c3014",
   "metadata": {},
   "source": [
    "**Escala logaritmica**"
   ]
  },
  {
   "cell_type": "code",
   "execution_count": null,
   "id": "51c5c5c8",
   "metadata": {},
   "outputs": [],
   "source": [
    "#Explicación"
   ]
  },
  {
   "cell_type": "code",
   "execution_count": null,
   "id": "e9926958",
   "metadata": {},
   "outputs": [],
   "source": [
    "#code (Muestra grafica)"
   ]
  }
 ],
 "metadata": {
  "kernelspec": {
   "display_name": "Python 3 (ipykernel)",
   "language": "python",
   "name": "python3"
  },
  "language_info": {
   "codemirror_mode": {
    "name": "ipython",
    "version": 3
   },
   "file_extension": ".py",
   "mimetype": "text/x-python",
   "name": "python",
   "nbconvert_exporter": "python",
   "pygments_lexer": "ipython3",
   "version": "3.9.7"
  }
 },
 "nbformat": 4,
 "nbformat_minor": 5
}
